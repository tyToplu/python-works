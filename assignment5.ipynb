{
 "cells": [
  {
   "cell_type": "markdown",
   "metadata": {},
   "source": [
    "## Packages"
   ]
  },
  {
   "cell_type": "code",
   "execution_count": 1,
   "metadata": {},
   "outputs": [],
   "source": [
    "import time\n",
    "import numpy as np\n",
    "import matplotlib.pyplot as plt\n",
    "import h5py\n",
    "import scipy\n",
    "from PIL import Image\n",
    "from scipy import ndimage\n",
    "\n",
    "%matplotlib inline\n",
    "plt.rcParams['figure.figsize'] = (5.0, 4.0) # set default size of plots\n",
    "plt.rcParams['image.interpolation'] = 'nearest'\n",
    "plt.rcParams['image.cmap'] = 'gray'\n",
    "\n",
    "%load_ext autoreload\n",
    "%autoreload 2\n",
    "\n",
    "np.random.seed(1)"
   ]
  },
  {
   "cell_type": "code",
   "execution_count": 2,
   "metadata": {},
   "outputs": [],
   "source": [
    "def load_data(path):\n",
    "    train_dataset = h5py.File(path+'/train_catvnoncat.h5', \"r\")\n",
    "    train_set_x_orig = np.array(train_dataset[\"train_set_x\"][:]) # your train set features\n",
    "    train_set_y_orig = np.array(train_dataset[\"train_set_y\"][:]) # your train set labels\n",
    "\n",
    "    test_dataset = h5py.File(path+'/test_catvnoncat.h5', \"r\")\n",
    "    test_set_x_orig = np.array(test_dataset[\"test_set_x\"][:]) # your test set features\n",
    "    test_set_y_orig = np.array(test_dataset[\"test_set_y\"][:]) # your test set labels\n",
    "\n",
    "    classes = np.array(test_dataset[\"list_classes\"][:]) # the list of classes\n",
    "    \n",
    "    train_set_y_orig = train_set_y_orig.reshape((1, train_set_y_orig.shape[0]))\n",
    "    test_set_y_orig = test_set_y_orig.reshape((1, test_set_y_orig.shape[0]))\n",
    "    \n",
    "    return train_set_x_orig, train_set_y_orig, test_set_x_orig, test_set_y_orig, classes"
   ]
  },
  {
   "cell_type": "markdown",
   "metadata": {},
   "source": [
    "## Dataset\n",
    "\n",
    "To be familiar with the dataset, load the data by running the cell below."
   ]
  },
  {
   "cell_type": "code",
   "execution_count": 3,
   "metadata": {},
   "outputs": [],
   "source": [
    "train_x_orig, train_y, test_x_orig, test_y, classes = load_data('C:\\\\Users\\\\Taha Yunus\\\\PycharmProjects\\\\matplo\\\\dataset') # you need to change your dataset path"
   ]
  },
  {
   "cell_type": "markdown",
   "metadata": {},
   "source": [
    "The following code will show you an image in the dataset. Feel free to change the index and re-run the cell multiple times to see other images. "
   ]
  },
  {
   "cell_type": "code",
   "execution_count": 4,
   "metadata": {},
   "outputs": [
    {
     "name": "stdout",
     "output_type": "stream",
     "text": [
      "y = 1. It's a cat picture.\n"
     ]
    },
    {
     "data": {
      "image/png": "[encoded data removed]",
      "text/plain": [
       "<Figure size 360x288 with 1 Axes>"
      ]
     },
     "metadata": {
      "needs_background": "light"
     },
     "output_type": "display_data"
    }
   ],
   "source": [
    "# Example of a picture\n",
    "index = 2\n",
    "plt.imshow(train_x_orig[index])\n",
    "print (\"y = \" + str(train_y[0,index]) + \". It's a \" + classes[train_y[0,index]].decode(\"utf-8\") +  \" picture.\")"
   ]
  },
  {
   "cell_type": "code",
   "execution_count": 5,
   "metadata": {},
   "outputs": [
    {
     "name": "stdout",
     "output_type": "stream",
     "text": [
      "Number of training examples: 209\n",
      "Number of testing examples: 50\n",
      "Each image is of size: (64, 64, 3)\n",
      "train_x_orig shape: (209, 64, 64, 3)\n",
      "train_y shape: (1, 209)\n",
      "test_x_orig shape: (50, 64, 64, 3)\n",
      "test_y shape: (1, 50)\n"
     ]
    }
   ],
   "source": [
    "# Explore your dataset \n",
    "m_train = train_x_orig.shape[0]\n",
    "num_px = train_x_orig.shape[1]\n",
    "m_test = test_x_orig.shape[0]\n",
    "\n",
    "print (\"Number of training examples: \" + str(m_train))\n",
    "print (\"Number of testing examples: \" + str(m_test))\n",
    "print (\"Each image is of size: (\" + str(num_px) + \", \" + str(num_px) + \", 3)\")\n",
    "print (\"train_x_orig shape: \" + str(train_x_orig.shape))\n",
    "print (\"train_y shape: \" + str(train_y.shape))\n",
    "print (\"test_x_orig shape: \" + str(test_x_orig.shape))\n",
    "print (\"test_y shape: \" + str(test_y.shape))"
   ]
  },
  {
   "cell_type": "code",
   "execution_count": 6,
   "metadata": {},
   "outputs": [
    {
     "name": "stdout",
     "output_type": "stream",
     "text": [
      "train_x's shape: (12288, 209)\n",
      "test_x's shape: (12288, 50)\n"
     ]
    }
   ],
   "source": [
    "# Reshape the training and test examples \n",
    "train_x_flatten = train_x_orig.reshape(train_x_orig.shape[0], -1).T   # The \"-1\" makes reshape flatten the remaining dimensions\n",
    "test_x_flatten = test_x_orig.reshape(test_x_orig.shape[0], -1).T\n",
    "\n",
    "# Standardize data to have feature values between 0 and 1.\n",
    "train_x = train_x_flatten/255.\n",
    "test_x = test_x_flatten/255.\n",
    "\n",
    "print (\"train_x's shape: \" + str(train_x.shape))\n",
    "print (\"test_x's shape: \" + str(test_x.shape))"
   ]
  },
  {
   "cell_type": "code",
   "execution_count": 7,
   "metadata": {},
   "outputs": [],
   "source": [
    "### CONSTANTS DEFINING THE MODEL ####\n",
    "n_x = 12288     # num_px * num_px * 3\n",
    "n_h = 7        # number of neurons\n",
    "n_y = 1\n",
    "layers_dims = (n_x, n_h, n_y)"
   ]
  },
  {
   "cell_type": "code",
   "execution_count": 8,
   "metadata": {},
   "outputs": [],
   "source": [
    "def initialize_parameters_deep(layer_dims):\n",
    "    \"\"\"\n",
    "    Arguments:\n",
    "    layer_dims -- python array (list) containing the dimensions of each layer in our network\n",
    "    \n",
    "    Returns:\n",
    "    parameters -- python dictionary containing your parameters \"W1\", \"b1\",\"W2\", \"b2\":\n",
    "    \"\"\"\n",
    "    np.random.seed(1)\n",
    "    parameters = {}\n",
    "\n",
    "    parameters[\"W1\"] = 0.10*np.random.randn(n_h,n_x)\n",
    "    parameters[\"b1\"] = np.full((n_h,1),0)\n",
    "    parameters[\"W2\"] = 0.10*np.random.randn(n_h,n_h)\n",
    "    parameters[\"b2\"] = np.full((n_h,1),0)\n",
    "    \n",
    "    return parameters"
   ]
  },
  {
   "cell_type": "code",
   "execution_count": 9,
   "metadata": {},
   "outputs": [],
   "source": [
    "def linear_activation_forward(X,parameters):\n",
    "    \"\"\"\n",
    "    Implement the forward propagation\n",
    "\n",
    "    Arguments:\n",
    "    X -- input data:\n",
    "    parameters -- python dictionary containing your parameters \"W1\", \"b1\",\"W2\", \"b2\":\n",
    "\n",
    "    Returns:\n",
    "    AL -- output of the forward propogation\n",
    "    \"\"\"\n",
    "    def sigmoid(Z):\n",
    "        A = 1/(1+np.exp(-Z))\n",
    "        return A\n",
    "    def ReLU(Z):\n",
    "        return np.maximum(Z, 0)\n",
    "    \n",
    "    Z1 = parameters[\"W1\"].dot(X) + parameters[\"b1\"]\n",
    "    A1 = ReLU(Z1)\n",
    "    Z2 = parameters[\"W2\"].dot(A1) + parameters[\"b2\"]\n",
    "    AL = sigmoid(Z2)\n",
    "    return AL,Z1"
   ]
  },
  {
   "cell_type": "code",
   "execution_count": 10,
   "metadata": {},
   "outputs": [],
   "source": [
    "def compute_cost(AL, Y):\n",
    "    \"\"\"\n",
    "    Implement the cost function defined by equation (7).\n",
    "\n",
    "    Arguments:\n",
    "    AL -- probability vector corresponding to your label predictions, shape (1, number of examples)\n",
    "    Y -- true \"label\" vector (for example: containing 0 if non-cat, 1 if cat), shape (1, number of examples)\n",
    "\n",
    "    Returns:\n",
    "    cost -- cost\n",
    "    \"\"\"\n",
    "    m=Y.shape[1]\n",
    "    cost = (- 1 / m) * np.sum(Y * np.log(AL) + (1 - Y) * (np.log(1 - AL)))\n",
    "\n",
    "    #here y is train_y\n",
    "    \n",
    "    \n",
    "    return cost"
   ]
  },
  {
   "cell_type": "code",
   "execution_count": 11,
   "metadata": {},
   "outputs": [],
   "source": [
    "def linear_activation_backward(X,cost,Y,AL,Z1,parameters):\n",
    "    \"\"\"\n",
    "    Implement the backward propagation\n",
    "    \n",
    "    Arguments:\n",
    "    X -- input data\n",
    "    cost -- cost\n",
    "    \n",
    "    Returns:\n",
    "    grads --  A dictionary with the gradients\n",
    "             grads[\"dW1\"]\n",
    "             grads[\"db1\"]\n",
    "             grads[\"dW2\"]\n",
    "             grads[\"db2\"]\n",
    "    \"\"\"\n",
    "    \"\"\"Y is here output data to calculate difference between our output and real value train_y\"\"\"\n",
    "    def ReLU_deriv(Z):\n",
    "        return Z > 0\n",
    "    m=X.shape[1]\n",
    "    grads=dict()\n",
    "    grads[\"dZ2\"]=AL - Y\n",
    "    grads[\"dW2\"] = 1 / m * grads[\"dZ2\"].dot(AL.T)\n",
    "    grads[\"db2\"] = 1 / m * np.sum(grads[\"dZ2\"])\n",
    "    grads[\"dZ1\"] = parameters[\"W2\"].T.dot(grads[\"dZ2\"]) * ReLU_deriv(Z1)\n",
    "    grads[\"dW1\"] = 1 / m * grads[\"dZ1\"].dot(X.T)\n",
    "    grads[\"db1\"] = 1 / m * np.sum(grads[\"dZ1\"])\n",
    "    \n",
    "        \n",
    "\n",
    "    \n",
    "    return grads"
   ]
  },
  {
   "cell_type": "code",
   "execution_count": 12,
   "metadata": {},
   "outputs": [],
   "source": [
    "def update_parameters(parameters, grads, learning_rate):\n",
    "    \"\"\"\n",
    "    Update parameters using gradient descent\n",
    "    \n",
    "    Arguments:\n",
    "    parameters -- python dictionary containing your parameters \n",
    "    grads -- python dictionary containing your gradients, output of L_model_backward\n",
    "    \n",
    "    Returns:\n",
    "    parameters -- python dictionary containing your updated parameters \n",
    "             parameters[\"W1\"]\n",
    "             parameters[\"b1\"]\n",
    "             parameters[\"W2\"]\n",
    "             parameters[\"b2\"]\n",
    "    \"\"\"\n",
    "    alpha=learning_rate\n",
    "    parameters[\"W1\"] = parameters[\"W1\"] - alpha * grads[\"dW1\"]\n",
    "    parameters[\"b1\"] = parameters[\"b1\"] - alpha * grads[\"db1\"]    \n",
    "    parameters[\"W2\"] = parameters[\"W2\"] - alpha * grads[\"dW2\"]  \n",
    "    parameters[\"b2\"] = parameters[\"b2\"] - alpha * grads[\"db2\"] \n",
    "    \n",
    "    \n",
    "    \n",
    "    return parameters\n",
    "\n",
    "\n",
    "\n"
   ]
  },
  {
   "cell_type": "code",
   "execution_count": 13,
   "metadata": {},
   "outputs": [],
   "source": [
    "def predict(test_x, test_y,parameters,train=1):\n",
    "    \"\"\"\n",
    "    Predict test data\n",
    "    test_x -- test data\n",
    "    test_y -- true \"label\" vector (for example: containing 0 if non-cat, 1 if cat), shape (1, number of examples)\n",
    "    \n",
    "    Returns:\n",
    "    accuracy -- accuracy of your model\n",
    "    \n",
    "    \"\"\"\n",
    "    m = test_x.shape[1]\n",
    "    Y_prediction = np.zeros((1,m))\n",
    "    \n",
    "    AL,Z1=linear_activation_forward(test_x,parameters)\n",
    "    for i in range(AL.shape[1]):\n",
    "        if AL[0,i] <= 0.5:\n",
    "            Y_prediction[0,i] = 0\n",
    "        else:\n",
    "            Y_prediction[0,i] = 1\n",
    "        pass\n",
    "      \n",
    "    if train==1:\n",
    "        print(\"train accuracy: {} %\".format(100 - np.mean(np.abs(Y_prediction - test_y)) * 100))\n",
    "    else:\n",
    "        print(\"test accuracy: {} %\".format(100 - np.mean(np.abs(Y_prediction - test_y))*100))\n",
    "    accuracy=100 - np.mean(np.abs(Y_prediction - test_y)) * 100\n",
    "    return accuracy"
   ]
  },
  {
   "cell_type": "code",
   "execution_count": 14,
   "metadata": {},
   "outputs": [],
   "source": [
    "def plot_loss(costs,learning_rate):\n",
    "    \"\"\"\n",
    "    Plot loss\n",
    "    costs - cost of each iteration\n",
    "    \n",
    "    \"\"\" \n",
    "    costs = np.squeeze(costs)\n",
    "    plt.plot(costs)\n",
    "    plt.ylabel(\"cost\")\n",
    "    plt.xlabel(\"iterations (per hundreds)\")\n",
    "    plt.title(\"Learning rate =\" + str(learning_rate))\n",
    "    plt.show()\n",
    "    "
   ]
  },
  {
   "cell_type": "code",
   "execution_count": 15,
   "metadata": {},
   "outputs": [],
   "source": [
    "def two_layer_model(X, Y, layers_dims, learning_rate = 0.0075, num_iterations = 3000):\n",
    "    \"\"\"\n",
    "    Implements a two-layer neural network: LINEAR->RELU->LINEAR->SIGMOID.\n",
    "    \n",
    "    Arguments:\n",
    "    X -- input data, of shape (n_x, number of examples)\n",
    "    Y -- true \"label\" vector (containing 1 if cat, 0 if non-cat), of shape (1, number of examples)\n",
    "    layers_dims -- dimensions of the layers (n_x, n_h, n_y)\n",
    "    num_iterations -- number of iterations of the optimization loop\n",
    "    learning_rate -- learning rate of the gradient descent update rule\n",
    "    print_cost -- If set to True, this will print the cost every 100 iterations \n",
    "    \n",
    "    Returns:\n",
    "    parameters -- a dictionary containing W1, W2, b1, and b2\n",
    "    \"\"\"\n",
    "    \n",
    "    np.random.seed(1)\n",
    "    grads = {}\n",
    "    costs = []                              # to keep track of the cost\n",
    "    m = X.shape[1]                           # number of examples\n",
    "    (n_x, n_h, n_y) = layers_dims\n",
    "    \n",
    "    # Initialize parameters dictionary, by calling one of the functions you'd previously implemented\n",
    "    ### START CODE HERE ### (≈ 1 line of code)\n",
    "    parameters = initialize_parameters_deep(layers_dims)\n",
    "    ### END CODE HERE ###\n",
    "    \n",
    "    # Get W1, b1, W2 and b2 from the dictionary parameters.\n",
    "    W1 = parameters[\"W1\"]\n",
    "    b1 = parameters[\"b1\"]\n",
    "    W2 = parameters[\"W2\"]\n",
    "    b2 = parameters[\"b2\"]\n",
    "    \n",
    "    # Loop (gradient descent)\n",
    "\n",
    "    for i in range(0, num_iterations):\n",
    "\n",
    "        # Forward propagation: LINEAR -> RELU -> LINEAR -> SIGMOID. Inputs: \"X, W1, b1, W2, b2\". Output: \"A1, cache1, A2, cache2\".\n",
    "        ### START CODE HERE ### \n",
    "        AL,Z1 = linear_activation_forward(train_x,parameters)# fill here\n",
    "        ### END CODE HERE ###\n",
    "        \n",
    "        # Compute cost\n",
    "        ### START CODE HERE ### \n",
    "        cost = compute_cost(AL, Y)# fill here\n",
    "        ### END CODE HERE ###\n",
    "        \n",
    "        \n",
    "        # Backward propagation.\n",
    "        ### START CODE HERE ### \n",
    "        grads = linear_activation_backward(X,cost,Y,AL,Z1,parameters)# fill here\n",
    "        ### END CODE HERE ###\n",
    "\n",
    "        \n",
    "        # Update parameters.\n",
    "        ### START CODE HERE ### \n",
    "        parameters = update_parameters(parameters, grads, learning_rate)# fill here\n",
    "        ### END CODE HERE ###\n",
    "        \n",
    "        # Print the cost every 100 training e0xample\n",
    "        if i % 100 == 0:\n",
    "            print(\"Cost after iteration {}: {}\".format(i, np.squeeze(cost)))\n",
    "        if i % 100 == 0:\n",
    "            costs.append(cost)\n",
    "\n",
    "    return parameters, costs \n",
    "\n"
   ]
  },
  {
   "cell_type": "code",
   "execution_count": 16,
   "metadata": {},
   "outputs": [
    {
     "name": "stdout",
     "output_type": "stream",
     "text": [
      "Cost after iteration 0: 6.301796012604849\n",
      "Cost after iteration 100: 4.541218905467464\n",
      "Cost after iteration 200: 4.454789879918927\n",
      "Cost after iteration 300: 4.404025252298553\n",
      "Cost after iteration 400: 4.377772933899916\n",
      "Cost after iteration 500: 4.3656341395226175\n",
      "Cost after iteration 600: 4.359778397767793\n",
      "Cost after iteration 700: 4.359629059647524\n",
      "Cost after iteration 800: 4.349989933121976\n",
      "Cost after iteration 900: 4.338236014394213\n",
      "Cost after iteration 1000: 4.322568501469559\n",
      "Cost after iteration 1100: 4.2941591586357335\n",
      "Cost after iteration 1200: 4.243837195390471\n",
      "Cost after iteration 1300: 4.1440445282398\n",
      "Cost after iteration 1400: 3.9591590467347997\n",
      "Cost after iteration 1500: 3.7390282813913407\n",
      "Cost after iteration 1600: 3.5048003240991195\n",
      "Cost after iteration 1700: 3.2869908390530194\n",
      "Cost after iteration 1800: 3.077388687481517\n",
      "Cost after iteration 1900: 2.8826424242018285\n",
      "Cost after iteration 2000: 2.6768557303057126\n",
      "Cost after iteration 2100: 2.476298794238136\n",
      "Cost after iteration 2200: 2.2441975814545976\n",
      "Cost after iteration 2300: 2.0282157965109677\n",
      "Cost after iteration 2400: 1.8368863530627264\n",
      "Cost after iteration 2500: 1.6503963725383672\n",
      "Cost after iteration 2600: 1.4812858537835585\n",
      "Cost after iteration 2700: 1.3228549131821083\n",
      "Cost after iteration 2800: 1.195482360052043\n",
      "Cost after iteration 2900: 1.07960410977054\n"
     ]
    },
    {
     "data": {
      "image/png": "[encoded data removed]",
      "text/plain": [
       "<Figure size 360x288 with 1 Axes>"
      ]
     },
     "metadata": {
      "needs_background": "light"
     },
     "output_type": "display_data"
    },
    {
     "name": "stdout",
     "output_type": "stream",
     "text": [
      "train accuracy: 98.08612440191388 %\n",
      "test accuracy: 74.0 %\n"
     ]
    }
   ],
   "source": [
    "def main():\n",
    "    \"\"\"Main function\n",
    "    You need to combine all functions in the main function\"\"\"\n",
    "    \n",
    "    \n",
    "    x=two_layer_model(train_x,train_y,layers_dims)\n",
    "    plot_loss(x[1],learning_rate = 0.0075)\n",
    "    predict(train_x,train_y,x[0])\n",
    "    predict(test_x,test_y,x[0],train=0)\n",
    "main()\n",
    "    "
   ]
  }
 ],
 "metadata": {
  "kernelspec": {
   "display_name": "Python 3 (ipykernel)",
   "language": "python",
   "name": "python3"
  },
  "language_info": {
   "codemirror_mode": {
    "name": "ipython",
    "version": 3
   },
   "file_extension": ".py",
   "mimetype": "text/x-python",
   "name": "python",
   "nbconvert_exporter": "python",
   "pygments_lexer": "ipython3",
   "version": "3.10.1"
  }
 },
 "nbformat": 4,
 "nbformat_minor": 2
}
